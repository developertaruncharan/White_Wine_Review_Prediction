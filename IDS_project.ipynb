{
  "nbformat": 4,
  "nbformat_minor": 0,
  "metadata": {
    "colab": {
      "name": "Copy of New IDS FILE.ipynb",
      "provenance": [],
      "collapsed_sections": []
    },
    "kernelspec": {
      "display_name": "Python 3",
      "name": "python3"
    }
  },
  "cells": [
    {
      "cell_type": "markdown",
      "metadata": {
        "id": "w3j56sNvk6Yj"
      },
      "source": [
        "Importing libraries"
      ]
    },
    {
      "cell_type": "code",
      "metadata": {
        "id": "aaAuZZ1Zg6E4"
      },
      "source": [
        "import numpy as np   # linear algebra\n",
        "import pandas as pd  # data processing, CSV file I/O (e.g. pd.read_csv)\n",
        "# import matplotlib and seaborn\n",
        "# for plotting\n",
        "import matplotlib\n",
        "import matplotlib.pyplot as plt\n",
        "import seaborn as sns\n",
        "from collections import Counter\n",
        "\n",
        "from sklearn.model_selection import train_test_split\n",
        "from sklearn.preprocessing import StandardScaler\n",
        "sc=StandardScaler()\n",
        "from sklearn.linear_model import LogisticRegression\n",
        "from sklearn.metrics import confusion_matrix\n",
        "from sklearn.metrics import accuracy_score,classification_report\n",
        "from sklearn.tree import DecisionTreeRegressor\n",
        "from sklearn.ensemble import RandomForestRegressor\n",
        "from sklearn.metrics import mean_squared_error\n",
        "# This line ensures that the plot is displayed\n",
        "# inside the notebook\n",
        "%matplotlib inline\n",
        "\n"
      ],
      "execution_count": null,
      "outputs": []
    },
    {
      "cell_type": "markdown",
      "metadata": {
        "id": "rwCfkfNcANuD"
      },
      "source": [
        "Reading the dataset\n"
      ]
    },
    {
      "cell_type": "code",
      "metadata": {
        "id": "u0qLgHzzdtTx"
      },
      "source": [
        "data=pd.read_csv('winequality-white.csv',sep=';')"
      ],
      "execution_count": null,
      "outputs": []
    },
    {
      "cell_type": "markdown",
      "metadata": {
        "id": "c8J3esOZAeTP"
      },
      "source": [
        "Attribute of dataset"
      ]
    },
    {
      "cell_type": "code",
      "metadata": {
        "id": "Jperk-_5hG1i",
        "colab": {
          "base_uri": "https://localhost:8080/"
        },
        "outputId": "0ee8131c-2a22-471c-cbd7-662a0be3d38a"
      },
      "source": [
        "data.columns"
      ],
      "execution_count": null,
      "outputs": [
        {
          "output_type": "execute_result",
          "data": {
            "text/plain": [
              "Index(['fixed acidity', 'volatile acidity', 'citric acid', 'residual sugar',\n",
              "       'chlorides', 'free sulfur dioxide', 'total sulfur dioxide', 'density',\n",
              "       'pH', 'sulphates', 'alcohol', 'quality'],\n",
              "      dtype='object')"
            ]
          },
          "metadata": {
            "tags": []
          },
          "execution_count": 5
        }
      ]
    },
    {
      "cell_type": "markdown",
      "metadata": {
        "id": "IOXljFq2dZfJ"
      },
      "source": [
        "Information about different attributes in dataset\n"
      ]
    },
    {
      "cell_type": "code",
      "metadata": {
        "id": "o7zGm2Xthzcd",
        "colab": {
          "base_uri": "https://localhost:8080/"
        },
        "outputId": "343b6608-05e7-4ee4-9a88-84aeb2fdba2c"
      },
      "source": [
        "data.info"
      ],
      "execution_count": null,
      "outputs": [
        {
          "output_type": "execute_result",
          "data": {
            "text/plain": [
              "<bound method DataFrame.info of       fixed acidity  volatile acidity  citric acid  ...  sulphates  alcohol  quality\n",
              "0               7.0              0.27         0.36  ...       0.45      8.8        6\n",
              "1               6.3              0.30         0.34  ...       0.49      9.5        6\n",
              "2               8.1              0.28         0.40  ...       0.44     10.1        6\n",
              "3               7.2              0.23         0.32  ...       0.40      9.9        6\n",
              "4               7.2              0.23         0.32  ...       0.40      9.9        6\n",
              "...             ...               ...          ...  ...        ...      ...      ...\n",
              "4893            6.2              0.21         0.29  ...       0.50     11.2        6\n",
              "4894            6.6              0.32         0.36  ...       0.46      9.6        5\n",
              "4895            6.5              0.24         0.19  ...       0.46      9.4        6\n",
              "4896            5.5              0.29         0.30  ...       0.38     12.8        7\n",
              "4897            6.0              0.21         0.38  ...       0.32     11.8        6\n",
              "\n",
              "[4898 rows x 12 columns]>"
            ]
          },
          "metadata": {
            "tags": []
          },
          "execution_count": 6
        }
      ]
    },
    {
      "cell_type": "markdown",
      "metadata": {
        "id": "hetg0XTeeI2D"
      },
      "source": [
        "Size of dataset "
      ]
    },
    {
      "cell_type": "code",
      "metadata": {
        "id": "fhK4SRbnH2r8",
        "colab": {
          "base_uri": "https://localhost:8080/"
        },
        "outputId": "74261a96-5abf-4fee-f943-5c8adc1851d1"
      },
      "source": [
        "data.shape"
      ],
      "execution_count": null,
      "outputs": [
        {
          "output_type": "execute_result",
          "data": {
            "text/plain": [
              "(4898, 12)"
            ]
          },
          "metadata": {
            "tags": []
          },
          "execution_count": 7
        }
      ]
    },
    {
      "cell_type": "markdown",
      "metadata": {
        "id": "Oal4F4RJeelt"
      },
      "source": [
        "Chcking for missing values in dataset"
      ]
    },
    {
      "cell_type": "code",
      "metadata": {
        "id": "g9AWazVbPTFG",
        "colab": {
          "base_uri": "https://localhost:8080/"
        },
        "outputId": "5444b23d-471f-4a55-8655-797df3726903"
      },
      "source": [
        "print(data.isna().sum())"
      ],
      "execution_count": null,
      "outputs": [
        {
          "output_type": "stream",
          "text": [
            "fixed acidity           0\n",
            "volatile acidity        0\n",
            "citric acid             0\n",
            "residual sugar          0\n",
            "chlorides               0\n",
            "free sulfur dioxide     0\n",
            "total sulfur dioxide    0\n",
            "density                 0\n",
            "pH                      0\n",
            "sulphates               0\n",
            "alcohol                 0\n",
            "quality                 0\n",
            "dtype: int64\n"
          ],
          "name": "stdout"
        }
      ]
    },
    {
      "cell_type": "markdown",
      "metadata": {
        "id": "FgbJbTZgermS"
      },
      "source": [
        "Datatypes of different attribute"
      ]
    },
    {
      "cell_type": "code",
      "metadata": {
        "id": "csqEBOO7Pedm",
        "colab": {
          "base_uri": "https://localhost:8080/"
        },
        "outputId": "f1ea91d9-0f9c-43d8-9c5e-200415295885"
      },
      "source": [
        "data.dtypes"
      ],
      "execution_count": null,
      "outputs": [
        {
          "output_type": "execute_result",
          "data": {
            "text/plain": [
              "fixed acidity           float64\n",
              "volatile acidity        float64\n",
              "citric acid             float64\n",
              "residual sugar          float64\n",
              "chlorides               float64\n",
              "free sulfur dioxide     float64\n",
              "total sulfur dioxide    float64\n",
              "density                 float64\n",
              "pH                      float64\n",
              "sulphates               float64\n",
              "alcohol                 float64\n",
              "quality                   int64\n",
              "dtype: object"
            ]
          },
          "metadata": {
            "tags": []
          },
          "execution_count": 9
        }
      ]
    },
    {
      "cell_type": "markdown",
      "metadata": {
        "id": "kYFSMp0eezC5"
      },
      "source": [
        "Plotting graph between quality and  thier count. "
      ]
    },
    {
      "cell_type": "code",
      "metadata": {
        "colab": {
          "base_uri": "https://localhost:8080/",
          "height": 298
        },
        "id": "biRV6yKYM0-r",
        "outputId": "d4a81818-0b1b-4591-fcb5-06658b751f31"
      },
      "source": [
        "#count of the quality variable\n",
        "sns.countplot(x='quality', data=data)\n"
      ],
      "execution_count": null,
      "outputs": [
        {
          "output_type": "execute_result",
          "data": {
            "text/plain": [
              "<matplotlib.axes._subplots.AxesSubplot at 0x7fa535c19a20>"
            ]
          },
          "metadata": {
            "tags": []
          },
          "execution_count": 10
        },
        {
          "output_type": "display_data",
          "data": {
            "image/png": "[encoded data removed]",
            "text/plain": [
              "<Figure size 432x288 with 1 Axes>"
            ]
          },
          "metadata": {
            "tags": [],
            "needs_background": "light"
          }
        }
      ]
    },
    {
      "cell_type": "markdown",
      "metadata": {
        "id": "VkJVSMqyfSBs"
      },
      "source": [
        "In it we have output about the count ,mean,standard deviation and many other thing of the differnt attribute in a dataset."
      ]
    },
    {
      "cell_type": "code",
      "metadata": {
        "id": "NOqLklHZisqJ",
        "colab": {
          "base_uri": "https://localhost:8080/",
          "height": 301
        },
        "outputId": "26880812-a4ab-4404-c6b7-548d0bdc8f3e"
      },
      "source": [
        "data.describe()"
      ],
      "execution_count": null,
      "outputs": [
        {
          "output_type": "execute_result",
          "data": {
            "text/html": [
              "<div>\n",
              "<style scoped>\n",
              "    .dataframe tbody tr th:only-of-type {\n",
              "        vertical-align: middle;\n",
              "    }\n",
              "\n",
              "    .dataframe tbody tr th {\n",
              "        vertical-align: top;\n",
              "    }\n",
              "\n",
              "    .dataframe thead th {\n",
              "        text-align: right;\n",
              "    }\n",
              "</style>\n",
              "<table border=\"1\" class=\"dataframe\">\n",
              "  <thead>\n",
              "    <tr style=\"text-align: right;\">\n",
              "      <th></th>\n",
              "      <th>fixed acidity</th>\n",
              "      <th>volatile acidity</th>\n",
              "      <th>citric acid</th>\n",
              "      <th>residual sugar</th>\n",
              "      <th>chlorides</th>\n",
              "      <th>free sulfur dioxide</th>\n",
              "      <th>total sulfur dioxide</th>\n",
              "      <th>density</th>\n",
              "      <th>pH</th>\n",
              "      <th>sulphates</th>\n",
              "      <th>alcohol</th>\n",
              "      <th>quality</th>\n",
              "    </tr>\n",
              "  </thead>\n",
              "  <tbody>\n",
              "    <tr>\n",
              "      <th>count</th>\n",
              "      <td>4898.000000</td>\n",
              "      <td>4898.000000</td>\n",
              "      <td>4898.000000</td>\n",
              "      <td>4898.000000</td>\n",
              "      <td>4898.000000</td>\n",
              "      <td>4898.000000</td>\n",
              "      <td>4898.000000</td>\n",
              "      <td>4898.000000</td>\n",
              "      <td>4898.000000</td>\n",
              "      <td>4898.000000</td>\n",
              "      <td>4898.000000</td>\n",
              "      <td>4898.000000</td>\n",
              "    </tr>\n",
              "    <tr>\n",
              "      <th>mean</th>\n",
              "      <td>6.854788</td>\n",
              "      <td>0.278241</td>\n",
              "      <td>0.334192</td>\n",
              "      <td>6.391415</td>\n",
              "      <td>0.045772</td>\n",
              "      <td>35.308085</td>\n",
              "      <td>138.360657</td>\n",
              "      <td>0.994027</td>\n",
              "      <td>3.188267</td>\n",
              "      <td>0.489847</td>\n",
              "      <td>10.514267</td>\n",
              "      <td>5.877909</td>\n",
              "    </tr>\n",
              "    <tr>\n",
              "      <th>std</th>\n",
              "      <td>0.843868</td>\n",
              "      <td>0.100795</td>\n",
              "      <td>0.121020</td>\n",
              "      <td>5.072058</td>\n",
              "      <td>0.021848</td>\n",
              "      <td>17.007137</td>\n",
              "      <td>42.498065</td>\n",
              "      <td>0.002991</td>\n",
              "      <td>0.151001</td>\n",
              "      <td>0.114126</td>\n",
              "      <td>1.230621</td>\n",
              "      <td>0.885639</td>\n",
              "    </tr>\n",
              "    <tr>\n",
              "      <th>min</th>\n",
              "      <td>3.800000</td>\n",
              "      <td>0.080000</td>\n",
              "      <td>0.000000</td>\n",
              "      <td>0.600000</td>\n",
              "      <td>0.009000</td>\n",
              "      <td>2.000000</td>\n",
              "      <td>9.000000</td>\n",
              "      <td>0.987110</td>\n",
              "      <td>2.720000</td>\n",
              "      <td>0.220000</td>\n",
              "      <td>8.000000</td>\n",
              "      <td>3.000000</td>\n",
              "    </tr>\n",
              "    <tr>\n",
              "      <th>25%</th>\n",
              "      <td>6.300000</td>\n",
              "      <td>0.210000</td>\n",
              "      <td>0.270000</td>\n",
              "      <td>1.700000</td>\n",
              "      <td>0.036000</td>\n",
              "      <td>23.000000</td>\n",
              "      <td>108.000000</td>\n",
              "      <td>0.991723</td>\n",
              "      <td>3.090000</td>\n",
              "      <td>0.410000</td>\n",
              "      <td>9.500000</td>\n",
              "      <td>5.000000</td>\n",
              "    </tr>\n",
              "    <tr>\n",
              "      <th>50%</th>\n",
              "      <td>6.800000</td>\n",
              "      <td>0.260000</td>\n",
              "      <td>0.320000</td>\n",
              "      <td>5.200000</td>\n",
              "      <td>0.043000</td>\n",
              "      <td>34.000000</td>\n",
              "      <td>134.000000</td>\n",
              "      <td>0.993740</td>\n",
              "      <td>3.180000</td>\n",
              "      <td>0.470000</td>\n",
              "      <td>10.400000</td>\n",
              "      <td>6.000000</td>\n",
              "    </tr>\n",
              "    <tr>\n",
              "      <th>75%</th>\n",
              "      <td>7.300000</td>\n",
              "      <td>0.320000</td>\n",
              "      <td>0.390000</td>\n",
              "      <td>9.900000</td>\n",
              "      <td>0.050000</td>\n",
              "      <td>46.000000</td>\n",
              "      <td>167.000000</td>\n",
              "      <td>0.996100</td>\n",
              "      <td>3.280000</td>\n",
              "      <td>0.550000</td>\n",
              "      <td>11.400000</td>\n",
              "      <td>6.000000</td>\n",
              "    </tr>\n",
              "    <tr>\n",
              "      <th>max</th>\n",
              "      <td>14.200000</td>\n",
              "      <td>1.100000</td>\n",
              "      <td>1.660000</td>\n",
              "      <td>65.800000</td>\n",
              "      <td>0.346000</td>\n",
              "      <td>289.000000</td>\n",
              "      <td>440.000000</td>\n",
              "      <td>1.038980</td>\n",
              "      <td>3.820000</td>\n",
              "      <td>1.080000</td>\n",
              "      <td>14.200000</td>\n",
              "      <td>9.000000</td>\n",
              "    </tr>\n",
              "  </tbody>\n",
              "</table>\n",
              "</div>"
            ],
            "text/plain": [
              "       fixed acidity  volatile acidity  ...      alcohol      quality\n",
              "count    4898.000000       4898.000000  ...  4898.000000  4898.000000\n",
              "mean        6.854788          0.278241  ...    10.514267     5.877909\n",
              "std         0.843868          0.100795  ...     1.230621     0.885639\n",
              "min         3.800000          0.080000  ...     8.000000     3.000000\n",
              "25%         6.300000          0.210000  ...     9.500000     5.000000\n",
              "50%         6.800000          0.260000  ...    10.400000     6.000000\n",
              "75%         7.300000          0.320000  ...    11.400000     6.000000\n",
              "max        14.200000          1.100000  ...    14.200000     9.000000\n",
              "\n",
              "[8 rows x 12 columns]"
            ]
          },
          "metadata": {
            "tags": []
          },
          "execution_count": 11
        }
      ]
    },
    {
      "cell_type": "markdown",
      "metadata": {
        "id": "Xwz3hbZPgJ5x"
      },
      "source": [
        "*Pandas dataframe.corr() is used to find the pairwise correlation of all columns in the dataframe. Any na values are automatically excluded. For any non-numeric data type columns in the dataframe it is ignored.*"
      ]
    },
    {
      "cell_type": "code",
      "metadata": {
        "id": "RarP9-4ri63p",
        "colab": {
          "base_uri": "https://localhost:8080/"
        },
        "outputId": "b1a244e3-0967-4feb-e476-6ebb4e985470"
      },
      "source": [
        "correlations = data.corr()\n",
        "print(correlations)"
      ],
      "execution_count": null,
      "outputs": [
        {
          "output_type": "stream",
          "text": [
            "                      fixed acidity  volatile acidity  ...   alcohol   quality\n",
            "fixed acidity              1.000000         -0.022697  ... -0.120881 -0.113663\n",
            "volatile acidity          -0.022697          1.000000  ...  0.067718 -0.194723\n",
            "citric acid                0.289181         -0.149472  ... -0.075729 -0.009209\n",
            "residual sugar             0.089021          0.064286  ... -0.450631 -0.097577\n",
            "chlorides                  0.023086          0.070512  ... -0.360189 -0.209934\n",
            "free sulfur dioxide       -0.049396         -0.097012  ... -0.250104  0.008158\n",
            "total sulfur dioxide       0.091070          0.089261  ... -0.448892 -0.174737\n",
            "density                    0.265331          0.027114  ... -0.780138 -0.307123\n",
            "pH                        -0.425858         -0.031915  ...  0.121432  0.099427\n",
            "sulphates                 -0.017143         -0.035728  ... -0.017433  0.053678\n",
            "alcohol                   -0.120881          0.067718  ...  1.000000  0.435575\n",
            "quality                   -0.113663         -0.194723  ...  0.435575  1.000000\n",
            "\n",
            "[12 rows x 12 columns]\n"
          ],
          "name": "stdout"
        }
      ]
    },
    {
      "cell_type": "markdown",
      "metadata": {
        "id": "l9_WoOZuCGpl"
      },
      "source": [
        "Co-relation plot for seeing how much data corelated to predicting label"
      ]
    },
    {
      "cell_type": "code",
      "metadata": {
        "id": "JNcrWHniBzt7",
        "colab": {
          "base_uri": "https://localhost:8080/",
          "height": 481
        },
        "outputId": "698c7170-5ba7-4d64-cf85-4c4212e97467"
      },
      "source": [
        "corelation=data.corr()\n",
        "plt.figure(figsize=(7,6))\n",
        "sns.heatmap(corelation,annot=True)"
      ],
      "execution_count": null,
      "outputs": [
        {
          "output_type": "execute_result",
          "data": {
            "text/plain": [
              "<matplotlib.axes._subplots.AxesSubplot at 0x7fa535b3a470>"
            ]
          },
          "metadata": {
            "tags": []
          },
          "execution_count": 13
        },
        {
          "output_type": "display_data",
          "data": {
            "image/png": "[encoded data removed]",
            "text/plain": [
              "<Figure size 504x432 with 2 Axes>"
            ]
          },
          "metadata": {
            "tags": [],
            "needs_background": "light"
          }
        }
      ]
    },
    {
      "cell_type": "code",
      "metadata": {
        "id": "UUsm2QDyR9uA"
      },
      "source": [
        "#next we shall add a new column called Review. This column will contain the values of 1,2, and 3,4. \n",
        "#1 - Poor\n",
        "#2 - Average\n",
        "#3 - Good\n",
        "#4 - Excellent\n",
        "#This will be split in the following way. \n",
        "#1,2,3 --> Poor\n",
        "#4,5 --> Average\n",
        "#6,7 --> Good\n",
        "#8,9,10->Excellent\n",
        "#Create an empty list called Reviews.\n",
        "\n",
        "reviews = []\n",
        "for i in data['quality']:\n",
        "    if i >= 1 and i <= 3:\n",
        "        reviews.append('1')\n",
        "    elif i >= 4 and i <= 5:\n",
        "        reviews.append('2')\n",
        "    elif i >= 6 and i <= 7:\n",
        "        reviews.append('3')\n",
        "    elif i >= 8 and i <= 10:\n",
        "        reviews.append('4')\n",
        "data['Reviews'] = reviews"
      ],
      "execution_count": null,
      "outputs": []
    },
    {
      "cell_type": "code",
      "metadata": {
        "id": "q_ikaNH4TWnX",
        "colab": {
          "base_uri": "https://localhost:8080/"
        },
        "outputId": "164ddad5-4f4e-47d1-ee4c-f283066ba5fa"
      },
      "source": [
        "#view newly added column\n",
        "data.columns"
      ],
      "execution_count": null,
      "outputs": [
        {
          "output_type": "execute_result",
          "data": {
            "text/plain": [
              "Index(['fixed acidity', 'volatile acidity', 'citric acid', 'residual sugar',\n",
              "       'chlorides', 'free sulfur dioxide', 'total sulfur dioxide', 'density',\n",
              "       'pH', 'sulphates', 'alcohol', 'quality', 'Reviews'],\n",
              "      dtype='object')"
            ]
          },
          "metadata": {
            "tags": []
          },
          "execution_count": 15
        }
      ]
    },
    {
      "cell_type": "markdown",
      "metadata": {
        "id": "KVMqaYFYgPoH"
      },
      "source": [
        "After add new column following are the datatypes of each attribute"
      ]
    },
    {
      "cell_type": "code",
      "metadata": {
        "colab": {
          "base_uri": "https://localhost:8080/"
        },
        "id": "-OEYmeTzWAS3",
        "outputId": "9ba77c52-e7e4-49ef-f295-56ddf10b2fa1"
      },
      "source": [
        "data.dtypes"
      ],
      "execution_count": null,
      "outputs": [
        {
          "output_type": "execute_result",
          "data": {
            "text/plain": [
              "fixed acidity           float64\n",
              "volatile acidity        float64\n",
              "citric acid             float64\n",
              "residual sugar          float64\n",
              "chlorides               float64\n",
              "free sulfur dioxide     float64\n",
              "total sulfur dioxide    float64\n",
              "density                 float64\n",
              "pH                      float64\n",
              "sulphates               float64\n",
              "alcohol                 float64\n",
              "quality                   int64\n",
              "Reviews                  object\n",
              "dtype: object"
            ]
          },
          "metadata": {
            "tags": []
          },
          "execution_count": 16
        }
      ]
    },
    {
      "cell_type": "code",
      "metadata": {
        "id": "Io135UZ2ThFT",
        "colab": {
          "base_uri": "https://localhost:8080/"
        },
        "outputId": "a2506e5a-abf7-481d-ffa3-d500c5b5e370"
      },
      "source": [
        "data['Reviews'].unique()"
      ],
      "execution_count": null,
      "outputs": [
        {
          "output_type": "execute_result",
          "data": {
            "text/plain": [
              "array(['3', '2', '4', '1'], dtype=object)"
            ]
          },
          "metadata": {
            "tags": []
          },
          "execution_count": 17
        }
      ]
    },
    {
      "cell_type": "markdown",
      "metadata": {
        "id": "MbLD0dUsge0u"
      },
      "source": [
        "Count the records which are present in differnt differnt review value"
      ]
    },
    {
      "cell_type": "code",
      "metadata": {
        "id": "lS_gQXrnUFgy",
        "colab": {
          "base_uri": "https://localhost:8080/"
        },
        "outputId": "dca2c52c-1466-4e31-d247-f01e68a052e1"
      },
      "source": [
        "Counter(data['Reviews'])"
      ],
      "execution_count": null,
      "outputs": [
        {
          "output_type": "execute_result",
          "data": {
            "text/plain": [
              "Counter({'1': 20, '2': 1620, '3': 3078, '4': 180})"
            ]
          },
          "metadata": {
            "tags": []
          },
          "execution_count": 18
        }
      ]
    },
    {
      "cell_type": "code",
      "metadata": {
        "id": "iYVwjgi1IPcW",
        "colab": {
          "base_uri": "https://localhost:8080/"
        },
        "outputId": "71903940-434e-43c3-ddd6-882ae06cad25"
      },
      "source": [
        "data.shape"
      ],
      "execution_count": null,
      "outputs": [
        {
          "output_type": "execute_result",
          "data": {
            "text/plain": [
              "(4898, 13)"
            ]
          },
          "metadata": {
            "tags": []
          },
          "execution_count": 19
        }
      ]
    },
    {
      "cell_type": "code",
      "metadata": {
        "id": "VYJGpZv7RCrz",
        "colab": {
          "base_uri": "https://localhost:8080/",
          "height": 298
        },
        "outputId": "5a584161-1406-47ae-9e16-70203fb8949a"
      },
      "source": [
        "#count of the target variable\n",
        "sns.countplot(x='Reviews', data=data)"
      ],
      "execution_count": null,
      "outputs": [
        {
          "output_type": "execute_result",
          "data": {
            "text/plain": [
              "<matplotlib.axes._subplots.AxesSubplot at 0x7fa532c98c88>"
            ]
          },
          "metadata": {
            "tags": []
          },
          "execution_count": 20
        },
        {
          "output_type": "display_data",
          "data": {
            "image/png": "[encoded data removed]",
            "text/plain": [
              "<Figure size 432x288 with 1 Axes>"
            ]
          },
          "metadata": {
            "tags": [],
            "needs_background": "light"
          }
        }
      ]
    },
    {
      "cell_type": "markdown",
      "metadata": {
        "id": "yzzsDWw1g3I5"
      },
      "source": [
        "Splitting the attributes in dependent variable and non-dependent variable."
      ]
    },
    {
      "cell_type": "code",
      "metadata": {
        "id": "m0o_1SGDRuym"
      },
      "source": [
        "x = data.iloc[:,:11]\n",
        "y = data['Reviews']"
      ],
      "execution_count": null,
      "outputs": []
    },
    {
      "cell_type": "code",
      "metadata": {
        "id": "bedRq28KR3sf",
        "colab": {
          "base_uri": "https://localhost:8080/"
        },
        "outputId": "ad996d71-9f41-41c9-d432-f096a0d1aa90"
      },
      "source": [
        "print(y)"
      ],
      "execution_count": null,
      "outputs": [
        {
          "output_type": "stream",
          "text": [
            "0       3\n",
            "1       3\n",
            "2       3\n",
            "3       3\n",
            "4       3\n",
            "       ..\n",
            "4893    3\n",
            "4894    2\n",
            "4895    3\n",
            "4896    3\n",
            "4897    3\n",
            "Name: Reviews, Length: 4898, dtype: object\n"
          ],
          "name": "stdout"
        }
      ]
    },
    {
      "cell_type": "code",
      "metadata": {
        "id": "VYnxTCn2z3h0",
        "colab": {
          "base_uri": "https://localhost:8080/"
        },
        "outputId": "f9020f95-a4e9-47b8-88cb-ec6315a81602"
      },
      "source": [
        "print(x)"
      ],
      "execution_count": null,
      "outputs": [
        {
          "output_type": "stream",
          "text": [
            "      fixed acidity  volatile acidity  citric acid  ...    pH  sulphates  alcohol\n",
            "0               7.0              0.27         0.36  ...  3.00       0.45      8.8\n",
            "1               6.3              0.30         0.34  ...  3.30       0.49      9.5\n",
            "2               8.1              0.28         0.40  ...  3.26       0.44     10.1\n",
            "3               7.2              0.23         0.32  ...  3.19       0.40      9.9\n",
            "4               7.2              0.23         0.32  ...  3.19       0.40      9.9\n",
            "...             ...               ...          ...  ...   ...        ...      ...\n",
            "4893            6.2              0.21         0.29  ...  3.27       0.50     11.2\n",
            "4894            6.6              0.32         0.36  ...  3.15       0.46      9.6\n",
            "4895            6.5              0.24         0.19  ...  2.99       0.46      9.4\n",
            "4896            5.5              0.29         0.30  ...  3.34       0.38     12.8\n",
            "4897            6.0              0.21         0.38  ...  3.26       0.32     11.8\n",
            "\n",
            "[4898 rows x 11 columns]\n"
          ],
          "name": "stdout"
        }
      ]
    },
    {
      "cell_type": "code",
      "metadata": {
        "id": "CUZKBpSlCuIR",
        "colab": {
          "base_uri": "https://localhost:8080/",
          "height": 357
        },
        "outputId": "bb2e02fe-56d6-4160-c6fd-3d5da347caea"
      },
      "source": [
        "#Plot a boxplot to check for Outliers\n",
        "#Target variable is Reviews. So will plot a boxplot each column against target variable\n",
        "sns.boxplot('Reviews', 'fixed acidity', data = data)"
      ],
      "execution_count": null,
      "outputs": [
        {
          "output_type": "stream",
          "text": [
            "/usr/local/lib/python3.6/dist-packages/seaborn/_decorators.py:43: FutureWarning: Pass the following variables as keyword args: x, y. From version 0.12, the only valid positional argument will be `data`, and passing other arguments without an explicit keyword will result in an error or misinterpretation.\n",
            "  FutureWarning\n"
          ],
          "name": "stderr"
        },
        {
          "output_type": "execute_result",
          "data": {
            "text/plain": [
              "<matplotlib.axes._subplots.AxesSubplot at 0x7fa531483080>"
            ]
          },
          "metadata": {
            "tags": []
          },
          "execution_count": 24
        },
        {
          "output_type": "display_data",
          "data": {
            "image/png": "[encoded data removed]",
            "text/plain": [
              "<Figure size 432x288 with 1 Axes>"
            ]
          },
          "metadata": {
            "tags": [],
            "needs_background": "light"
          }
        }
      ]
    },
    {
      "cell_type": "code",
      "metadata": {
        "id": "q5gUhi7uC_Gm",
        "colab": {
          "base_uri": "https://localhost:8080/",
          "height": 357
        },
        "outputId": "9a8663ea-9df9-48f6-d71a-51b37ef071c8"
      },
      "source": [
        "sns.boxplot('Reviews', 'volatile acidity', data = data)"
      ],
      "execution_count": null,
      "outputs": [
        {
          "output_type": "stream",
          "text": [
            "/usr/local/lib/python3.6/dist-packages/seaborn/_decorators.py:43: FutureWarning: Pass the following variables as keyword args: x, y. From version 0.12, the only valid positional argument will be `data`, and passing other arguments without an explicit keyword will result in an error or misinterpretation.\n",
            "  FutureWarning\n"
          ],
          "name": "stderr"
        },
        {
          "output_type": "execute_result",
          "data": {
            "text/plain": [
              "<matplotlib.axes._subplots.AxesSubplot at 0x7fa5313a7198>"
            ]
          },
          "metadata": {
            "tags": []
          },
          "execution_count": 25
        },
        {
          "output_type": "display_data",
          "data": {
            "image/png": "[encoded data removed]",
            "text/plain": [
              "<Figure size 432x288 with 1 Axes>"
            ]
          },
          "metadata": {
            "tags": [],
            "needs_background": "light"
          }
        }
      ]
    },
    {
      "cell_type": "code",
      "metadata": {
        "id": "-VJPwaxYDGHJ",
        "colab": {
          "base_uri": "https://localhost:8080/",
          "height": 357
        },
        "outputId": "27a14b9f-a126-4825-8564-1a0aaa36c9ed"
      },
      "source": [
        "sns.boxplot('Reviews', 'citric acid', data = data)"
      ],
      "execution_count": null,
      "outputs": [
        {
          "output_type": "stream",
          "text": [
            "/usr/local/lib/python3.6/dist-packages/seaborn/_decorators.py:43: FutureWarning: Pass the following variables as keyword args: x, y. From version 0.12, the only valid positional argument will be `data`, and passing other arguments without an explicit keyword will result in an error or misinterpretation.\n",
            "  FutureWarning\n"
          ],
          "name": "stderr"
        },
        {
          "output_type": "execute_result",
          "data": {
            "text/plain": [
              "<matplotlib.axes._subplots.AxesSubplot at 0x7fa531332dd8>"
            ]
          },
          "metadata": {
            "tags": []
          },
          "execution_count": 26
        },
        {
          "output_type": "display_data",
          "data": {
            "image/png": "[encoded data removed]",
            "text/plain": [
              "<Figure size 432x288 with 1 Axes>"
            ]
          },
          "metadata": {
            "tags": [],
            "needs_background": "light"
          }
        }
      ]
    },
    {
      "cell_type": "code",
      "metadata": {
        "id": "nikkHKOuDRDv",
        "colab": {
          "base_uri": "https://localhost:8080/",
          "height": 357
        },
        "outputId": "d724ca04-67c7-4832-b557-b8c9dbb00aef"
      },
      "source": [
        "sns.boxplot('Reviews', 'residual sugar', data = data)"
      ],
      "execution_count": null,
      "outputs": [
        {
          "output_type": "stream",
          "text": [
            "/usr/local/lib/python3.6/dist-packages/seaborn/_decorators.py:43: FutureWarning: Pass the following variables as keyword args: x, y. From version 0.12, the only valid positional argument will be `data`, and passing other arguments without an explicit keyword will result in an error or misinterpretation.\n",
            "  FutureWarning\n"
          ],
          "name": "stderr"
        },
        {
          "output_type": "execute_result",
          "data": {
            "text/plain": [
              "<matplotlib.axes._subplots.AxesSubplot at 0x7fa53127a390>"
            ]
          },
          "metadata": {
            "tags": []
          },
          "execution_count": 27
        },
        {
          "output_type": "display_data",
          "data": {
            "image/png": "[encoded data removed]",
            "text/plain": [
              "<Figure size 432x288 with 1 Axes>"
            ]
          },
          "metadata": {
            "tags": [],
            "needs_background": "light"
          }
        }
      ]
    },
    {
      "cell_type": "code",
      "metadata": {
        "id": "6qXGKKB9DhpG",
        "colab": {
          "base_uri": "https://localhost:8080/",
          "height": 357
        },
        "outputId": "ad4f61b9-da86-4da6-dcff-74640b8924e5"
      },
      "source": [
        "sns.boxplot('Reviews', 'chlorides', data = data)"
      ],
      "execution_count": null,
      "outputs": [
        {
          "output_type": "stream",
          "text": [
            "/usr/local/lib/python3.6/dist-packages/seaborn/_decorators.py:43: FutureWarning: Pass the following variables as keyword args: x, y. From version 0.12, the only valid positional argument will be `data`, and passing other arguments without an explicit keyword will result in an error or misinterpretation.\n",
            "  FutureWarning\n"
          ],
          "name": "stderr"
        },
        {
          "output_type": "execute_result",
          "data": {
            "text/plain": [
              "<matplotlib.axes._subplots.AxesSubplot at 0x7fa53118c320>"
            ]
          },
          "metadata": {
            "tags": []
          },
          "execution_count": 28
        },
        {
          "output_type": "display_data",
          "data": {
            "image/png": "[encoded data removed]",
            "text/plain": [
              "<Figure size 432x288 with 1 Axes>"
            ]
          },
          "metadata": {
            "tags": [],
            "needs_background": "light"
          }
        }
      ]
    },
    {
      "cell_type": "code",
      "metadata": {
        "id": "f3T_uDVADh98",
        "colab": {
          "base_uri": "https://localhost:8080/",
          "height": 359
        },
        "outputId": "7d1634ac-89ff-4466-fcb6-b5c990552f7c"
      },
      "source": [
        "sns.boxplot('Reviews', 'free sulfur dioxide', data = data)"
      ],
      "execution_count": null,
      "outputs": [
        {
          "output_type": "stream",
          "text": [
            "/usr/local/lib/python3.6/dist-packages/seaborn/_decorators.py:43: FutureWarning: Pass the following variables as keyword args: x, y. From version 0.12, the only valid positional argument will be `data`, and passing other arguments without an explicit keyword will result in an error or misinterpretation.\n",
            "  FutureWarning\n"
          ],
          "name": "stderr"
        },
        {
          "output_type": "execute_result",
          "data": {
            "text/plain": [
              "<matplotlib.axes._subplots.AxesSubplot at 0x7fa53124f9b0>"
            ]
          },
          "metadata": {
            "tags": []
          },
          "execution_count": 29
        },
        {
          "output_type": "display_data",
          "data": {
            "image/png": "[encoded data removed]",
            "text/plain": [
              "<Figure size 432x288 with 1 Axes>"
            ]
          },
          "metadata": {
            "tags": [],
            "needs_background": "light"
          }
        }
      ]
    },
    {
      "cell_type": "code",
      "metadata": {
        "id": "8macZJRwDiIn",
        "colab": {
          "base_uri": "https://localhost:8080/",
          "height": 357
        },
        "outputId": "76aadad8-75aa-4d6f-fb78-cb3e40142e05"
      },
      "source": [
        "sns.boxplot('Reviews', 'total sulfur dioxide', data = data)"
      ],
      "execution_count": null,
      "outputs": [
        {
          "output_type": "stream",
          "text": [
            "/usr/local/lib/python3.6/dist-packages/seaborn/_decorators.py:43: FutureWarning: Pass the following variables as keyword args: x, y. From version 0.12, the only valid positional argument will be `data`, and passing other arguments without an explicit keyword will result in an error or misinterpretation.\n",
            "  FutureWarning\n"
          ],
          "name": "stderr"
        },
        {
          "output_type": "execute_result",
          "data": {
            "text/plain": [
              "<matplotlib.axes._subplots.AxesSubplot at 0x7fa531059f60>"
            ]
          },
          "metadata": {
            "tags": []
          },
          "execution_count": 30
        },
        {
          "output_type": "display_data",
          "data": {
            "image/png": "[encoded data removed]",
            "text/plain": [
              "<Figure size 432x288 with 1 Axes>"
            ]
          },
          "metadata": {
            "tags": [],
            "needs_background": "light"
          }
        }
      ]
    },
    {
      "cell_type": "code",
      "metadata": {
        "id": "spT7Gj7NDiTC",
        "colab": {
          "base_uri": "https://localhost:8080/",
          "height": 357
        },
        "outputId": "c903b7ed-51d4-4589-e4d3-5de4c5a8abb0"
      },
      "source": [
        "sns.boxplot('Reviews', 'density', data = data)"
      ],
      "execution_count": null,
      "outputs": [
        {
          "output_type": "stream",
          "text": [
            "/usr/local/lib/python3.6/dist-packages/seaborn/_decorators.py:43: FutureWarning: Pass the following variables as keyword args: x, y. From version 0.12, the only valid positional argument will be `data`, and passing other arguments without an explicit keyword will result in an error or misinterpretation.\n",
            "  FutureWarning\n"
          ],
          "name": "stderr"
        },
        {
          "output_type": "execute_result",
          "data": {
            "text/plain": [
              "<matplotlib.axes._subplots.AxesSubplot at 0x7fa530fe75f8>"
            ]
          },
          "metadata": {
            "tags": []
          },
          "execution_count": 31
        },
        {
          "output_type": "display_data",
          "data": {
            "image/png": "[encoded data removed]",
            "text/plain": [
              "<Figure size 432x288 with 1 Axes>"
            ]
          },
          "metadata": {
            "tags": [],
            "needs_background": "light"
          }
        }
      ]
    },
    {
      "cell_type": "code",
      "metadata": {
        "id": "Qk-Z1v8ADidY",
        "colab": {
          "base_uri": "https://localhost:8080/",
          "height": 357
        },
        "outputId": "f295fc36-1a8b-4db4-df88-94e03fe68df1"
      },
      "source": [
        "sns.boxplot('Reviews', 'pH', data = data)"
      ],
      "execution_count": null,
      "outputs": [
        {
          "output_type": "stream",
          "text": [
            "/usr/local/lib/python3.6/dist-packages/seaborn/_decorators.py:43: FutureWarning: Pass the following variables as keyword args: x, y. From version 0.12, the only valid positional argument will be `data`, and passing other arguments without an explicit keyword will result in an error or misinterpretation.\n",
            "  FutureWarning\n"
          ],
          "name": "stderr"
        },
        {
          "output_type": "execute_result",
          "data": {
            "text/plain": [
              "<matplotlib.axes._subplots.AxesSubplot at 0x7fa530f0ad68>"
            ]
          },
          "metadata": {
            "tags": []
          },
          "execution_count": 32
        },
        {
          "output_type": "display_data",
          "data": {
            "image/png": "[encoded data removed]",
            "text/plain": [
              "<Figure size 432x288 with 1 Axes>"
            ]
          },
          "metadata": {
            "tags": [],
            "needs_background": "light"
          }
        }
      ]
    },
    {
      "cell_type": "code",
      "metadata": {
        "id": "c9WcwEBmEDWn",
        "colab": {
          "base_uri": "https://localhost:8080/",
          "height": 357
        },
        "outputId": "df5b8d60-df4c-4eac-de97-73d9c10978f7"
      },
      "source": [
        "sns.boxplot('Reviews', 'sulphates', data = data)"
      ],
      "execution_count": null,
      "outputs": [
        {
          "output_type": "stream",
          "text": [
            "/usr/local/lib/python3.6/dist-packages/seaborn/_decorators.py:43: FutureWarning: Pass the following variables as keyword args: x, y. From version 0.12, the only valid positional argument will be `data`, and passing other arguments without an explicit keyword will result in an error or misinterpretation.\n",
            "  FutureWarning\n"
          ],
          "name": "stderr"
        },
        {
          "output_type": "execute_result",
          "data": {
            "text/plain": [
              "<matplotlib.axes._subplots.AxesSubplot at 0x7fa5314769b0>"
            ]
          },
          "metadata": {
            "tags": []
          },
          "execution_count": 33
        },
        {
          "output_type": "display_data",
          "data": {
            "image/png": "[encoded data removed]",
            "text/plain": [
              "<Figure size 432x288 with 1 Axes>"
            ]
          },
          "metadata": {
            "tags": [],
            "needs_background": "light"
          }
        }
      ]
    },
    {
      "cell_type": "code",
      "metadata": {
        "colab": {
          "base_uri": "https://localhost:8080/",
          "height": 357
        },
        "id": "Gw05ssXSpWrJ",
        "outputId": "88629f29-dcff-4a5f-ea9b-1f6fa582d950"
      },
      "source": [
        "sns.boxplot('Reviews', 'alcohol', data = data)"
      ],
      "execution_count": null,
      "outputs": [
        {
          "output_type": "stream",
          "text": [
            "/usr/local/lib/python3.6/dist-packages/seaborn/_decorators.py:43: FutureWarning: Pass the following variables as keyword args: x, y. From version 0.12, the only valid positional argument will be `data`, and passing other arguments without an explicit keyword will result in an error or misinterpretation.\n",
            "  FutureWarning\n"
          ],
          "name": "stderr"
        },
        {
          "output_type": "execute_result",
          "data": {
            "text/plain": [
              "<matplotlib.axes._subplots.AxesSubplot at 0x7fa530e1d518>"
            ]
          },
          "metadata": {
            "tags": []
          },
          "execution_count": 34
        },
        {
          "output_type": "display_data",
          "data": {
            "image/png": "[encoded data removed]",
            "text/plain": [
              "<Figure size 432x288 with 1 Axes>"
            ]
          },
          "metadata": {
            "tags": [],
            "needs_background": "light"
          }
        }
      ]
    },
    {
      "cell_type": "markdown",
      "metadata": {
        "id": "ZjZU3o7d6suW"
      },
      "source": [
        "we have divide our dataset like 20 percent for test data and 80 percent for the training data. "
      ]
    },
    {
      "cell_type": "code",
      "metadata": {
        "id": "ThBkInp4Urew"
      },
      "source": [
        " x_train,x_test,y_train,y_test=train_test_split(x,y,test_size=0.2,random_state=41)\n",
        " \n",
        " \n",
        "\n"
      ],
      "execution_count": null,
      "outputs": []
    },
    {
      "cell_type": "code",
      "metadata": {
        "id": "rqKsw6FW0BOJ",
        "colab": {
          "base_uri": "https://localhost:8080/"
        },
        "outputId": "9e319dc6-36f9-4b9a-e119-010037c2d6e4"
      },
      "source": [
        "print(y_train)"
      ],
      "execution_count": null,
      "outputs": [
        {
          "output_type": "stream",
          "text": [
            "4595    3\n",
            "1808    2\n",
            "1188    3\n",
            "1388    3\n",
            "1836    3\n",
            "       ..\n",
            "321     2\n",
            "4066    3\n",
            "3980    2\n",
            "931     2\n",
            "1984    4\n",
            "Name: Reviews, Length: 3918, dtype: object\n"
          ],
          "name": "stdout"
        }
      ]
    },
    {
      "cell_type": "code",
      "metadata": {
        "id": "7cJ1yPijVsbQ",
        "colab": {
          "base_uri": "https://localhost:8080/"
        },
        "outputId": "937b0bbf-19c5-4c0d-a501-31ab30d24fcd"
      },
      "source": [
        "y_train.head(5)"
      ],
      "execution_count": null,
      "outputs": [
        {
          "output_type": "execute_result",
          "data": {
            "text/plain": [
              "4595    3\n",
              "1808    2\n",
              "1188    3\n",
              "1388    3\n",
              "1836    3\n",
              "Name: Reviews, dtype: object"
            ]
          },
          "metadata": {
            "tags": []
          },
          "execution_count": 37
        }
      ]
    },
    {
      "cell_type": "markdown",
      "metadata": {
        "id": "Lnnrbeec6iMv"
      },
      "source": [
        "In the cell we have to fit our x_train and y_train for using in futher algorithm."
      ]
    },
    {
      "cell_type": "code",
      "metadata": {
        "id": "WneHK5hvwuDk"
      },
      "source": [
        "#feature scaling\n",
        "x_train=sc.fit_transform(x_train)\n",
        "x_test=sc.transform(x_test)"
      ],
      "execution_count": null,
      "outputs": []
    },
    {
      "cell_type": "code",
      "metadata": {
        "colab": {
          "base_uri": "https://localhost:8080/"
        },
        "id": "fRWfZMYcHfoe",
        "outputId": "df6c0bed-6466-4fb3-baf3-a35a07627a07"
      },
      "source": [
        "print(x_train)"
      ],
      "execution_count": null,
      "outputs": [
        {
          "output_type": "stream",
          "text": [
            "[[ 0.27991559  1.0942557  -0.28035304 ... -0.77585151 -0.60060471\n",
            "   0.31558978]\n",
            " [ 0.74952296  0.5078455   0.45165799 ... -0.18435112 -0.86337206\n",
            "  -0.90697548]\n",
            " [ 0.27991559 -0.66497489 -0.28035304 ... -0.38151792 -1.38890677\n",
            "  -0.49945372]\n",
            " ...\n",
            " [-0.89410281 -0.56723986 -0.68702583 ...  0.14426021 -0.77578295\n",
            "   0.15258108]\n",
            " [-0.54189729 -0.17629973  0.77699622 ... -0.71012925 -0.95096118\n",
            "  -1.31449723]\n",
            " [ 0.8669248  -0.76270993 -0.28035304 ... -0.31579565 -0.25024824\n",
            "  -1.31449723]]\n"
          ],
          "name": "stdout"
        }
      ]
    },
    {
      "cell_type": "code",
      "metadata": {
        "colab": {
          "base_uri": "https://localhost:8080/"
        },
        "id": "dx2JwUhYIIDV",
        "outputId": "c4742561-031e-4738-d3aa-f14a02519955"
      },
      "source": [
        "print(x_test)"
      ],
      "execution_count": null,
      "outputs": [
        {
          "output_type": "stream",
          "text": [
            "[[-0.65929913 -1.05591503 -0.11768392 ...  0.341427   -0.51301559\n",
            "   0.64160719]\n",
            " [-0.07228993  3.53763152 -2.06971333 ...  1.19581646 -0.25024824\n",
            "  -1.31449723]\n",
            " [ 0.98432664 -0.56723986  0.69566166 ...  0.7357606   0.01251912\n",
            "   1.04912894]\n",
            " ...\n",
            " [-0.18969177 -0.95817999 -0.19901848 ... -0.71012925  0.01251912\n",
            "  -0.58095807]\n",
            " [-1.24630834 -1.44685516 -0.93102951 ...  0.86720513 -0.60060471\n",
            "   0.96762459]\n",
            " [ 0.16251375 -0.66497489  0.04498519 ... -1.30162964  0.8884103\n",
            "  -0.90697548]]\n"
          ],
          "name": "stdout"
        }
      ]
    },
    {
      "cell_type": "markdown",
      "metadata": {
        "id": "3fkumVik4On0"
      },
      "source": [
        "* We have to use differnt types of model to find the most accurate algolithm which we applied on our dataset*\n",
        "# 1. Logistic Regression"
      ]
    },
    {
      "cell_type": "code",
      "metadata": {
        "colab": {
          "base_uri": "https://localhost:8080/"
        },
        "id": "gZicJ6wylgNM",
        "outputId": "630df20f-9cc0-425a-8963-32b319b56492"
      },
      "source": [
        "classifier = LogisticRegression(random_state = 0)\n",
        "classifier.fit(x_train, y_train)\n",
        "y_pred = classifier.predict(x_test)\n",
        "cm = confusion_matrix(y_test, y_pred)"
      ],
      "execution_count": null,
      "outputs": [
        {
          "output_type": "stream",
          "text": [
            "/usr/local/lib/python3.6/dist-packages/sklearn/linear_model/_logistic.py:940: ConvergenceWarning: lbfgs failed to converge (status=1):\n",
            "STOP: TOTAL NO. of ITERATIONS REACHED LIMIT.\n",
            "\n",
            "Increase the number of iterations (max_iter) or scale the data as shown in:\n",
            "    https://scikit-learn.org/stable/modules/preprocessing.html\n",
            "Please also refer to the documentation for alternative solver options:\n",
            "    https://scikit-learn.org/stable/modules/linear_model.html#logistic-regression\n",
            "  extra_warning_msg=_LOGISTIC_SOLVER_CONVERGENCE_MSG)\n"
          ],
          "name": "stderr"
        }
      ]
    },
    {
      "cell_type": "markdown",
      "metadata": {
        "id": "P4dRMvZfudXy"
      },
      "source": [
        ""
      ]
    },
    {
      "cell_type": "code",
      "metadata": {
        "id": "FZg0C8od-YJs",
        "colab": {
          "base_uri": "https://localhost:8080/",
          "height": 778
        },
        "outputId": "f84f1ef6-2139-48fc-ad39-d1da9d53aff0"
      },
      "source": [
        "#print confusion matrix and accuracy score\n",
        "print(\" \"*30)\n",
        "print(\"Confusion Matrix\")\n",
        "print(cm)\n",
        "\n",
        "print(\" \"*30)\n",
        "print('Accuracy Score :',accuracy_score(y_test, y_pred) * 100 ,\"%\")\n",
        "print(\" \"*30)\n",
        "print('Confusion matrix plot')\n",
        "sns.heatmap(confusion_matrix(y_test, y_pred),annot=True,fmt=\"d\")\n",
        "plt.xlabel('predicted')\n",
        "plt.ylabel('true')\n",
        "plt.show()\n",
        "print(\" \"*30)\n",
        "print(\"Classification Report\")\n",
        "print(classification_report(y_test,y_pred))"
      ],
      "execution_count": null,
      "outputs": [
        {
          "output_type": "stream",
          "text": [
            "                              \n",
            "Confusion Matrix\n",
            "[[  0   1   2   0]\n",
            " [  0 160 170   0]\n",
            " [  0  69 545   0]\n",
            " [  0   0  33   0]]\n",
            "                              \n",
            "Accuracy Score : 71.93877551020408 %\n",
            "                              \n",
            "Confusion matrix plot\n"
          ],
          "name": "stdout"
        },
        {
          "output_type": "display_data",
          "data": {
            "image/png": "[encoded data removed]",
            "text/plain": [
              "<Figure size 432x288 with 2 Axes>"
            ]
          },
          "metadata": {
            "tags": [],
            "needs_background": "light"
          }
        },
        {
          "output_type": "stream",
          "text": [
            "                              \n",
            "Classification Report\n",
            "              precision    recall  f1-score   support\n",
            "\n",
            "           1       0.00      0.00      0.00         3\n",
            "           2       0.70      0.48      0.57       330\n",
            "           3       0.73      0.89      0.80       614\n",
            "           4       0.00      0.00      0.00        33\n",
            "\n",
            "    accuracy                           0.72       980\n",
            "   macro avg       0.36      0.34      0.34       980\n",
            "weighted avg       0.69      0.72      0.69       980\n",
            "\n"
          ],
          "name": "stdout"
        },
        {
          "output_type": "stream",
          "text": [
            "/usr/local/lib/python3.6/dist-packages/sklearn/metrics/_classification.py:1272: UndefinedMetricWarning: Precision and F-score are ill-defined and being set to 0.0 in labels with no predicted samples. Use `zero_division` parameter to control this behavior.\n",
            "  _warn_prf(average, modifier, msg_start, len(result))\n"
          ],
          "name": "stderr"
        }
      ]
    },
    {
      "cell_type": "markdown",
      "metadata": {
        "id": "O77lYXiWh4hm"
      },
      "source": [
        "In above algorithm we find 71.93% accuracy. then we apply next algorithm"
      ]
    },
    {
      "cell_type": "markdown",
      "metadata": {
        "id": "wlW26Vt5qTQZ"
      },
      "source": [
        "**The intercept (often labeled the constant) is the expected mean value of Y when all Xi=0.**"
      ]
    },
    {
      "cell_type": "code",
      "metadata": {
        "id": "bol7SBd9k0hY",
        "colab": {
          "base_uri": "https://localhost:8080/"
        },
        "outputId": "55808a55-a8e3-402d-a576-5c5a7c97f340"
      },
      "source": [
        "classifier.intercept_"
      ],
      "execution_count": null,
      "outputs": [
        {
          "output_type": "execute_result",
          "data": {
            "text/plain": [
              "array([-3.10941133,  1.53966999,  2.43295419, -0.86321285])"
            ]
          },
          "metadata": {
            "tags": []
          },
          "execution_count": 43
        }
      ]
    },
    {
      "cell_type": "markdown",
      "metadata": {
        "id": "4ABaWBfyqqY5"
      },
      "source": [
        "The assumption of error terms being normally distributed holds good"
      ]
    },
    {
      "cell_type": "code",
      "metadata": {
        "id": "_E72JPUHlFII",
        "colab": {
          "base_uri": "https://localhost:8080/",
          "height": 373
        },
        "outputId": "3681c126-75a9-4406-a403-af699bac4f0f"
      },
      "source": [
        "#Making Predictions\n",
        "pred = classifier.predict(x_test)\n",
        "sns.distplot((y_test),bins=30)\n",
        "plt.title('Actual vs Predictions')"
      ],
      "execution_count": null,
      "outputs": [
        {
          "output_type": "stream",
          "text": [
            "/usr/local/lib/python3.6/dist-packages/seaborn/distributions.py:2551: FutureWarning: `distplot` is a deprecated function and will be removed in a future version. Please adapt your code to use either `displot` (a figure-level function with similar flexibility) or `histplot` (an axes-level function for histograms).\n",
            "  warnings.warn(msg, FutureWarning)\n"
          ],
          "name": "stderr"
        },
        {
          "output_type": "execute_result",
          "data": {
            "text/plain": [
              "Text(0.5, 1.0, 'Actual vs Predictions')"
            ]
          },
          "metadata": {
            "tags": []
          },
          "execution_count": 44
        },
        {
          "output_type": "display_data",
          "data": {
            "image/png": "[encoded data removed]",
            "text/plain": [
              "<Figure size 432x288 with 1 Axes>"
            ]
          },
          "metadata": {
            "tags": [],
            "needs_background": "light"
          }
        }
      ]
    },
    {
      "cell_type": "markdown",
      "metadata": {
        "id": "BcyHYqjeqqNT"
      },
      "source": [
        ""
      ]
    },
    {
      "cell_type": "code",
      "metadata": {
        "id": "an2KStd9mOBx",
        "colab": {
          "base_uri": "https://localhost:8080/",
          "height": 206
        },
        "outputId": "027ad80e-dabf-4525-cd81-d528e8d9487f"
      },
      "source": [
        "df= pd.DataFrame({'Actual':y_test,'Predictions':pred})\n",
        "\n",
        "df.head()"
      ],
      "execution_count": null,
      "outputs": [
        {
          "output_type": "execute_result",
          "data": {
            "text/html": [
              "<div>\n",
              "<style scoped>\n",
              "    .dataframe tbody tr th:only-of-type {\n",
              "        vertical-align: middle;\n",
              "    }\n",
              "\n",
              "    .dataframe tbody tr th {\n",
              "        vertical-align: top;\n",
              "    }\n",
              "\n",
              "    .dataframe thead th {\n",
              "        text-align: right;\n",
              "    }\n",
              "</style>\n",
              "<table border=\"1\" class=\"dataframe\">\n",
              "  <thead>\n",
              "    <tr style=\"text-align: right;\">\n",
              "      <th></th>\n",
              "      <th>Actual</th>\n",
              "      <th>Predictions</th>\n",
              "    </tr>\n",
              "  </thead>\n",
              "  <tbody>\n",
              "    <tr>\n",
              "      <th>3114</th>\n",
              "      <td>3</td>\n",
              "      <td>3</td>\n",
              "    </tr>\n",
              "    <tr>\n",
              "      <th>230</th>\n",
              "      <td>2</td>\n",
              "      <td>2</td>\n",
              "    </tr>\n",
              "    <tr>\n",
              "      <th>547</th>\n",
              "      <td>3</td>\n",
              "      <td>3</td>\n",
              "    </tr>\n",
              "    <tr>\n",
              "      <th>4555</th>\n",
              "      <td>2</td>\n",
              "      <td>2</td>\n",
              "    </tr>\n",
              "    <tr>\n",
              "      <th>388</th>\n",
              "      <td>3</td>\n",
              "      <td>3</td>\n",
              "    </tr>\n",
              "  </tbody>\n",
              "</table>\n",
              "</div>"
            ],
            "text/plain": [
              "     Actual Predictions\n",
              "3114      3           3\n",
              "230       2           2\n",
              "547       3           3\n",
              "4555      2           2\n",
              "388       3           3"
            ]
          },
          "metadata": {
            "tags": []
          },
          "execution_count": 45
        }
      ]
    },
    {
      "cell_type": "markdown",
      "metadata": {
        "id": "IWJ6rGs45N1d"
      },
      "source": [
        "\n",
        "# 2. Decision Trees "
      ]
    },
    {
      "cell_type": "code",
      "metadata": {
        "id": "Na74egxBWSwB"
      },
      "source": [
        "from sklearn.tree import DecisionTreeClassifier\n",
        "dt = DecisionTreeClassifier()\n",
        "dt.fit(x_train,y_train)\n",
        "dt_predict = dt.predict(x_test)"
      ],
      "execution_count": null,
      "outputs": []
    },
    {
      "cell_type": "code",
      "metadata": {
        "id": "1bmfXcOO3OB0",
        "colab": {
          "base_uri": "https://localhost:8080/",
          "height": 729
        },
        "outputId": "b7e5288f-d4d4-410f-b390-b27925a4a84e"
      },
      "source": [
        "#print confusion matrix and accuracy score\n",
        "print('Confusion Matrix')\n",
        "dt_conf_matrix = confusion_matrix(y_test, dt_predict)\n",
        "dt_acc_score = accuracy_score(y_test, dt_predict)\n",
        "print(dt_conf_matrix)\n",
        "#print(dt_acc_score*100)\n",
        "print(\" \"*30)\n",
        "print(\"*\"* 30)\n",
        "#score=accuracy_score(y_test,pred)\n",
        "print(\"Decision Tree Classifier accuracy is :{}\".format(dt_acc_score*100))\n",
        "print(\" \"*30)\n",
        "print('Confusion matrix plot')\n",
        "sns.heatmap(confusion_matrix(y_test, dt_predict),annot=True,fmt=\"d\")\n",
        "plt.xlabel('predicted')\n",
        "plt.ylabel('true')\n",
        "plt.show()\n",
        "print(\" \"*30)\n",
        "print(\"Classification Report\")\n",
        "print(classification_report(y_test,dt_predict))"
      ],
      "execution_count": null,
      "outputs": [
        {
          "output_type": "stream",
          "text": [
            "Confusion Matrix\n",
            "[[  0   3   0   0]\n",
            " [  2 236  89   3]\n",
            " [  2  96 499  17]\n",
            " [  0   1  19  13]]\n",
            "                              \n",
            "******************************\n",
            "Decision Tree Classifier accuracy is :76.32653061224491\n",
            "                              \n",
            "Confusion matrix plot\n"
          ],
          "name": "stdout"
        },
        {
          "output_type": "display_data",
          "data": {
            "image/png": "[encoded data removed]",
            "text/plain": [
              "<Figure size 432x288 with 2 Axes>"
            ]
          },
          "metadata": {
            "tags": []
          }
        },
        {
          "output_type": "stream",
          "text": [
            "                              \n",
            "Classification Report\n",
            "              precision    recall  f1-score   support\n",
            "\n",
            "           1       0.00      0.00      0.00         3\n",
            "           2       0.70      0.72      0.71       330\n",
            "           3       0.82      0.81      0.82       614\n",
            "           4       0.39      0.39      0.39        33\n",
            "\n",
            "    accuracy                           0.76       980\n",
            "   macro avg       0.48      0.48      0.48       980\n",
            "weighted avg       0.76      0.76      0.76       980\n",
            "\n"
          ],
          "name": "stdout"
        }
      ]
    },
    {
      "cell_type": "markdown",
      "metadata": {
        "id": "Vy8oORNJiZ9Y"
      },
      "source": [
        "In above algorithm we got 77.04 %  accuracy which is better than linear regression then we check another one more algorithm."
      ]
    },
    {
      "cell_type": "markdown",
      "metadata": {
        "id": "Wt2n61JTkkJ_"
      },
      "source": [
        "\n",
        "\n",
        "**Overfitting**\n",
        "\n",
        "To explain overfitting, I think it’s best if we look at a dataset. There is a white winequality dataset which is quite famous. This dataset has 11 different attributes that decide the reviews of white wine. These attributes include:\n",
        "\n",
        "    fixed acidity\n",
        "    volatile acidity\n",
        "    citric acid\n",
        "    residual sugar\n",
        "    chlorides\n",
        "    free sulfur dioxide\n",
        "    total sulfur dioxide\n",
        "    density\n",
        "    pH\n",
        "    sulphates\n",
        "    alcohol\n",
        "\n",
        "Based on these different attributes, we are required to predict the reviews on white wine which are varying from 1-4.\n",
        "\n",
        "\n",
        "\n",
        "we calculate accuracies for different values of max_depth and make a plot"
      ]
    },
    {
      "cell_type": "code",
      "metadata": {
        "colab": {
          "base_uri": "https://localhost:8080/",
          "height": 353
        },
        "id": "qtcSPyuJf7zg",
        "outputId": "3cfd7e54-513f-4166-aa43-2e11268d6594"
      },
      "source": [
        "# import scikit-learn tree and metrics\n",
        "from sklearn import tree\n",
        "from sklearn import metrics\n",
        "\n",
        "# this is our global size of label text\n",
        "# on the plots\n",
        "matplotlib.rc('xtick', labelsize=20)\n",
        "matplotlib.rc('ytick', labelsize=20)\n",
        "\n",
        "# initialize lists to store accuracies\n",
        "# for training and test data\n",
        "# we start with 50% accuracy\n",
        "train_accuracies = [0.5]\n",
        "test_accuracies = [0.5]\n",
        "# iterate over a few depth values\n",
        "for depth in range(1, 25):\n",
        " # init the model\n",
        " dtc = tree.DecisionTreeClassifier(max_depth=depth)\n",
        " # columns/features for training\n",
        " \n",
        " \n",
        " # fit the model on given features\n",
        " dtc.fit(x_train,y_train)\n",
        " # create training & test predictions\n",
        " train_predictions = dtc.predict(x_train)\n",
        " test_predictions = dtc.predict(x_test)\n",
        " # calculate training & test accuracies\n",
        " train_accuracy = metrics.accuracy_score(\n",
        " y_train, train_predictions\n",
        " )\n",
        " test_accuracy = metrics.accuracy_score(\n",
        " y_test, test_predictions\n",
        " )\n",
        "\n",
        " # append accuracies\n",
        " train_accuracies.append(train_accuracy)\n",
        " test_accuracies.append(test_accuracy)\n",
        "# create two plots using matplotlib\n",
        "# and seaborn\n",
        "plt.figure(figsize=(10, 5))\n",
        "sns.set_style(\"whitegrid\")\n",
        "plt.plot(train_accuracies, label=\"train accuracy\")\n",
        "plt.plot(test_accuracies, label=\"test accuracy\")\n",
        "plt.legend(loc=\"upper left\", prop={'size': 15})\n",
        "plt.xticks(range(0, 26, 5))\n",
        "plt.xlabel(\"max_depth\", size=20)\n",
        "plt.ylabel(\"accuracy\", size=20)\n",
        "plt.show()"
      ],
      "execution_count": null,
      "outputs": [
        {
          "output_type": "display_data",
          "data": {
            "image/png": "[encoded data removed]",
            "text/plain": [
              "<Figure size 720x360 with 1 Axes>"
            ]
          },
          "metadata": {
            "tags": [],
            "needs_background": "light"
          }
        }
      ]
    },
    {
      "cell_type": "markdown",
      "metadata": {
        "id": "ZwJFhSH9iflU"
      },
      "source": [
        "\n",
        "\n",
        "We see that the best score for test data is obtained when max_depth has a value of 20. As we keep increasing the value of this parameter, test accuracy remains the same or gets worse, but the training accuracy keeps increasing. It means that our simple decision tree model keeps learning about the training data better and better with an increase in max_depth, but the performance on test data does not improve at all.\n",
        "\n",
        "This is called overfitting.\n"
      ]
    },
    {
      "cell_type": "markdown",
      "metadata": {
        "id": "N3oHY5va5j9x"
      },
      "source": [
        "\n",
        "# 3. Naive Bayes"
      ]
    },
    {
      "cell_type": "code",
      "metadata": {
        "id": "-0a4SF1h3Q6T"
      },
      "source": [
        "from sklearn.naive_bayes import GaussianNB\n",
        "nb = GaussianNB()\n",
        "nb.fit(x_train,y_train)\n",
        "nb_predict=nb.predict(x_test)"
      ],
      "execution_count": null,
      "outputs": []
    },
    {
      "cell_type": "code",
      "metadata": {
        "id": "mmUJ_zJq3edE",
        "colab": {
          "base_uri": "https://localhost:8080/",
          "height": 710
        },
        "outputId": "7147d025-b0f2-463e-e39b-00a158a8cda9"
      },
      "source": [
        "#print confusion matrix and accuracy score\n",
        "print('Confusion Matrix')\n",
        "nb_conf_matrix = confusion_matrix(y_test, nb_predict)\n",
        "nb_acc_score = accuracy_score(y_test, nb_predict)\n",
        "print(nb_conf_matrix)\n",
        "\n",
        "print(\"*\"* 30)\n",
        "#score=accuracy_score(y_test,pred)\n",
        "print(\"Naive Bayes Classifier accuracy is :{}\".format(nb_acc_score*100))\n",
        "#print(nb_acc_score*100)\n",
        "print(\" \"*30)\n",
        "print('Confusion matrix plot')\n",
        "sns.heatmap(confusion_matrix(y_test, nb_predict),annot=True,fmt=\"d\")\n",
        "plt.xlabel('predicted')\n",
        "plt.ylabel('true')\n",
        "plt.show()\n",
        "print(\" \"*30)\n",
        "print(\"Classification Report\")\n",
        "print(classification_report(y_test,nb_predict))"
      ],
      "execution_count": null,
      "outputs": [
        {
          "output_type": "stream",
          "text": [
            "Confusion Matrix\n",
            "[[  0   1   2   0]\n",
            " [ 10 173 147   0]\n",
            " [  4 137 466   7]\n",
            " [  0   2  28   3]]\n",
            "******************************\n",
            "Naive Bayes Classifier accuracy is :65.51020408163265\n",
            "                              \n",
            "Confusion matrix plot\n"
          ],
          "name": "stdout"
        },
        {
          "output_type": "display_data",
          "data": {
            "image/png": "[encoded data removed]",
            "text/plain": [
              "<Figure size 432x288 with 2 Axes>"
            ]
          },
          "metadata": {
            "tags": []
          }
        },
        {
          "output_type": "stream",
          "text": [
            "                              \n",
            "Classification Report\n",
            "              precision    recall  f1-score   support\n",
            "\n",
            "           1       0.00      0.00      0.00         3\n",
            "           2       0.55      0.52      0.54       330\n",
            "           3       0.72      0.76      0.74       614\n",
            "           4       0.30      0.09      0.14        33\n",
            "\n",
            "    accuracy                           0.66       980\n",
            "   macro avg       0.39      0.34      0.35       980\n",
            "weighted avg       0.65      0.66      0.65       980\n",
            "\n"
          ],
          "name": "stdout"
        }
      ]
    },
    {
      "cell_type": "markdown",
      "metadata": {
        "id": "1f9NYNK76Je4"
      },
      "source": [
        "In it we find the lowest accuracy above all the three algorithm which is 65.51 %."
      ]
    },
    {
      "cell_type": "markdown",
      "metadata": {
        "id": "tuHF5RGclZNQ"
      },
      "source": [
        "# KNeighborsClassifier"
      ]
    },
    {
      "cell_type": "code",
      "metadata": {
        "id": "pTGvkw8klsUw"
      },
      "source": [
        "from sklearn.neighbors import KNeighborsClassifier\n",
        "KNN=KNeighborsClassifier()\n",
        "KNN.fit(x_train,y_train)\n",
        "pred=KNN.predict(x_test)"
      ],
      "execution_count": null,
      "outputs": []
    },
    {
      "cell_type": "code",
      "metadata": {
        "id": "tLWOt0bW3rdD",
        "colab": {
          "base_uri": "https://localhost:8080/",
          "height": 806
        },
        "outputId": "abd336da-f5da-4624-dea3-36bfbfcb3a79"
      },
      "source": [
        "knn_conf_matrix = confusion_matrix(y_test, pred)\n",
        "\n",
        "print(\"*\"* 30)\n",
        "score=accuracy_score(y_test,pred)\n",
        "print(\"KNeighborsClassifier accuracy is :{}\".format(score*100))\n",
        "print(\" \"*30)\n",
        "print('Confusion matrix')\n",
        "print(knn_conf_matrix)\n",
        "print(\" \"*30)\n",
        "print('Confusion matrix plot')\n",
        "sns.heatmap(confusion_matrix(y_test, pred),annot=True,fmt=\"d\")\n",
        "plt.xlabel('predicted')\n",
        "plt.ylabel('true')\n",
        "plt.show()\n",
        "print(\" \"*30)\n",
        "print(\"Classification Report\")\n",
        "print(\" \"*30)\n",
        "print(classification_report(y_test,pred))"
      ],
      "execution_count": null,
      "outputs": [
        {
          "output_type": "stream",
          "text": [
            "******************************\n",
            "KNeighborsClassifier accuracy is :73.87755102040816\n",
            "                              \n",
            "Confusion matrix\n",
            "[[  0   1   2   0]\n",
            " [  0 205 124   1]\n",
            " [  0  95 515   4]\n",
            " [  0   1  28   4]]\n",
            "                              \n",
            "Confusion matrix plot\n"
          ],
          "name": "stdout"
        },
        {
          "output_type": "display_data",
          "data": {
            "image/png": "[encoded data removed]",
            "text/plain": [
              "<Figure size 432x288 with 2 Axes>"
            ]
          },
          "metadata": {
            "tags": []
          }
        },
        {
          "output_type": "stream",
          "text": [
            "                              \n",
            "Classification Report\n",
            "                              \n",
            "              precision    recall  f1-score   support\n",
            "\n",
            "           1       0.00      0.00      0.00         3\n",
            "           2       0.68      0.62      0.65       330\n",
            "           3       0.77      0.84      0.80       614\n",
            "           4       0.44      0.12      0.19        33\n",
            "\n",
            "    accuracy                           0.74       980\n",
            "   macro avg       0.47      0.40      0.41       980\n",
            "weighted avg       0.73      0.74      0.73       980\n",
            "\n"
          ],
          "name": "stdout"
        },
        {
          "output_type": "stream",
          "text": [
            "/usr/local/lib/python3.6/dist-packages/sklearn/metrics/_classification.py:1272: UndefinedMetricWarning: Precision and F-score are ill-defined and being set to 0.0 in labels with no predicted samples. Use `zero_division` parameter to control this behavior.\n",
            "  _warn_prf(average, modifier, msg_start, len(result))\n"
          ],
          "name": "stderr"
        }
      ]
    },
    {
      "cell_type": "markdown",
      "metadata": {
        "id": "lEJ2jVSI9LiB"
      },
      "source": [
        "From these algo we get accuracy of 73.87% which is compartively only less than decission tree algorithm."
      ]
    },
    {
      "cell_type": "markdown",
      "metadata": {
        "id": "t-BCHA-2jDRM"
      },
      "source": [
        "# In above dataset we find that decision tree algorithm gets max accuracy which is 77.04 % ."
      ]
    },
    {
      "cell_type": "markdown",
      "metadata": {
        "id": "VvNAEEB5ia_1"
      },
      "source": [
        "# Random forest Classification"
      ]
    },
    {
      "cell_type": "code",
      "metadata": {
        "colab": {
          "base_uri": "https://localhost:8080/"
        },
        "id": "5lTmOaewjfVt",
        "outputId": "d27405b2-8be6-41b2-9a7f-288bba8422d9"
      },
      "source": [
        "from sklearn.ensemble import RandomForestClassifier \n",
        "rfc = RandomForestClassifier()\n",
        "rfc.fit(x_train, y_train)"
      ],
      "execution_count": null,
      "outputs": [
        {
          "output_type": "execute_result",
          "data": {
            "text/plain": [
              "RandomForestClassifier(bootstrap=True, ccp_alpha=0.0, class_weight=None,\n",
              "                       criterion='gini', max_depth=None, max_features='auto',\n",
              "                       max_leaf_nodes=None, max_samples=None,\n",
              "                       min_impurity_decrease=0.0, min_impurity_split=None,\n",
              "                       min_samples_leaf=1, min_samples_split=2,\n",
              "                       min_weight_fraction_leaf=0.0, n_estimators=100,\n",
              "                       n_jobs=None, oob_score=False, random_state=None,\n",
              "                       verbose=0, warm_start=False)"
            ]
          },
          "metadata": {
            "tags": []
          },
          "execution_count": 53
        }
      ]
    },
    {
      "cell_type": "code",
      "metadata": {
        "colab": {
          "base_uri": "https://localhost:8080/",
          "height": 806
        },
        "id": "cFp0dDNRj53u",
        "outputId": "8bb79f9a-5ec2-400d-c713-56eef3fe614a"
      },
      "source": [
        "pred = rfc.predict(x_test)\n",
        "rf_conf_matrix = confusion_matrix(y_test, pred)\n",
        "\n",
        "print(\"*\"* 30)\n",
        "score=accuracy_score(y_test,pred)\n",
        "print(\"RandomForestClassifier accuracy is :{}\".format(score*100))\n",
        "print(\" \"*30)\n",
        "print('Confusion matrix')\n",
        "print(rf_conf_matrix)\n",
        "print(\" \"*30)\n",
        "print('Confusion matrix plot')\n",
        "sns.heatmap(confusion_matrix(y_test, pred),annot=True,fmt=\"d\")\n",
        "plt.xlabel('predicted')\n",
        "plt.ylabel('true')\n",
        "plt.show()\n",
        "print(\" \"*30)\n",
        "print(\"Classification Report\")\n",
        "print(\" \"*30)\n",
        "print(classification_report(y_test,pred))"
      ],
      "execution_count": null,
      "outputs": [
        {
          "output_type": "stream",
          "text": [
            "******************************\n",
            "KNeighborsClassifier accuracy is :82.24489795918367\n",
            "                              \n",
            "Confusion matrix\n",
            "[[  0   1   2   0]\n",
            " [  0 235  95   0]\n",
            " [  0  56 558   0]\n",
            " [  0   0  20  13]]\n",
            "                              \n",
            "Confusion matrix plot\n"
          ],
          "name": "stdout"
        },
        {
          "output_type": "display_data",
          "data": {
            "image/png": "[encoded data removed]",
            "text/plain": [
              "<Figure size 432x288 with 2 Axes>"
            ]
          },
          "metadata": {
            "tags": []
          }
        },
        {
          "output_type": "stream",
          "text": [
            "                              \n",
            "Classification Report\n",
            "                              \n",
            "              precision    recall  f1-score   support\n",
            "\n",
            "           1       0.00      0.00      0.00         3\n",
            "           2       0.80      0.71      0.76       330\n",
            "           3       0.83      0.91      0.87       614\n",
            "           4       1.00      0.39      0.57        33\n",
            "\n",
            "    accuracy                           0.82       980\n",
            "   macro avg       0.66      0.50      0.55       980\n",
            "weighted avg       0.82      0.82      0.82       980\n",
            "\n"
          ],
          "name": "stdout"
        },
        {
          "output_type": "stream",
          "text": [
            "/usr/local/lib/python3.6/dist-packages/sklearn/metrics/_classification.py:1272: UndefinedMetricWarning: Precision and F-score are ill-defined and being set to 0.0 in labels with no predicted samples. Use `zero_division` parameter to control this behavior.\n",
            "  _warn_prf(average, modifier, msg_start, len(result))\n"
          ],
          "name": "stderr"
        }
      ]
    },
    {
      "cell_type": "markdown",
      "metadata": {
        "id": "LfZVxj50muKs"
      },
      "source": [
        "# We got maximum accuracy in this model among all the models we applied earlier."
      ]
    }
  ]
}